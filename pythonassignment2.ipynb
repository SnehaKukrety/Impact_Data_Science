{
 "cells": [
  {
   "cell_type": "code",
   "execution_count": 1,
   "id": "abbcab6e",
   "metadata": {},
   "outputs": [],
   "source": [
    "#Q1. How do you comment code in Python? What are the different types of comments?\n",
    "\n",
    "#single line comments are written using '#' symbol and multiline comments in python are written using ''' or \"\"\"\"\"\"\n"
   ]
  },
  {
   "cell_type": "code",
   "execution_count": 2,
   "id": "1ff2c6b8",
   "metadata": {},
   "outputs": [],
   "source": [
    "#Q2. What are variables in Python? How do you declare and assign values to variables?\n",
    "\n",
    "# variables are the allocated memory address name for storing and manipulating data and we assign value to it as \"var_name=value\"\n",
    "num1=10\n",
    "name='sneha' \n",
    "correct=True\n",
    "\n"
   ]
  },
  {
   "cell_type": "code",
   "execution_count": 4,
   "id": "23f45a7f",
   "metadata": {},
   "outputs": [
    {
     "name": "stdout",
     "output_type": "stream",
     "text": [
      "15.1\n",
      "4\n",
      "3.0\n",
      "3\n"
     ]
    }
   ],
   "source": [
    "#Q3.How do you convert one data type to another in Python?\n",
    "'''There are two ways in which conversion can be done\n",
    "Implicit conversion is done by the compiler itself example'''\n",
    "x=10\n",
    "y=5.1\n",
    "print(x+y)\n",
    "'''Here x is int and y is float the result of x+y is a float number\n",
    "Explicit conversion is done by using type conversion functions example'''\n",
    "x=4.2\n",
    "print(int(x))\n",
    "num1=3\n",
    "print(float(num1))\n",
    "print(str(num1))"
   ]
  },
  {
   "cell_type": "code",
   "execution_count": 8,
   "id": "ba3bd4d1",
   "metadata": {},
   "outputs": [
    {
     "name": "stdout",
     "output_type": "stream",
     "text": [
      "\n"
     ]
    }
   ],
   "source": [
    "#Q4. How do you write and execute a Python script from the command line?\n",
    "'''We can directly write the python code in the command line, preceeded by python -c.\n",
    "      Example: python -c \"print('HEllo, World')\"\n",
    "\n",
    "To execute a python script we need to follow the steps:\n",
    "Step1:Write the open notebook write a code in it and save it using .py or ipynb extension .\n",
    "Step2: Open the command prompt and navigate your file using cd(change directory)command\n",
    "      Example: cd C:user\\Desktop\\assignment\n",
    "Step:3 write python file_name\n",
    "      Example: python assignment1.ipynb\n",
    "\n",
    "By using above steps we can write and execute python script from the command line'''\n"
   ]
  },
  {
   "cell_type": "code",
   "execution_count": 9,
   "id": "477a1f96",
   "metadata": {},
   "outputs": [
    {
     "name": "stdout",
     "output_type": "stream",
     "text": [
      "[2, 3]\n"
     ]
    }
   ],
   "source": [
    "#Q5. Given a list my_list = [1, 2, 3, 4, 5], write the code to slice the list and obtain the sub-list [2, 3].\n",
    "\n",
    "my_list=[1,2,3,4,5]\n",
    "sub_list=my_list[1:3]\n",
    "print(sub_list)"
   ]
  },
  {
   "cell_type": "code",
   "execution_count": 13,
   "id": "e1527f1f",
   "metadata": {},
   "outputs": [
    {
     "name": "stdout",
     "output_type": "stream",
     "text": [
      "<class 'complex'>\n"
     ]
    }
   ],
   "source": [
    "#Q6. What is a complex number in mathematics, and how is it represented in Python?\n",
    "\n",
    "'''Complex numbers are number a number which contain both real and imaginary part ex: a+ib, here a is real part and b is \n",
    "imaginary(i represents square root of -1)\n",
    "in python we write the complex number as \n",
    "a+bj (j represents the imaginary unit i in mathematics)'''\n",
    "\n",
    "complex_number= 1+2j\n",
    "print(type(complex_number))"
   ]
  },
  {
   "cell_type": "code",
   "execution_count": 14,
   "id": "3153c054",
   "metadata": {},
   "outputs": [
    {
     "name": "stdout",
     "output_type": "stream",
     "text": [
      "25\n"
     ]
    }
   ],
   "source": [
    "#Q7. What is the correct way to declare a variable named age and assign the value 25 to it?\n",
    " \n",
    "age=25\n",
    "print(age)"
   ]
  },
  {
   "cell_type": "code",
   "execution_count": 15,
   "id": "278e83a4",
   "metadata": {},
   "outputs": [
    {
     "name": "stdout",
     "output_type": "stream",
     "text": [
      "<class 'float'>\n"
     ]
    }
   ],
   "source": [
    "#Q8. Declare a variable named price and assign the value 9.99 to it. What data type does this variable belong to?\n",
    "\n",
    "price=9.99\n",
    "print(type(price))"
   ]
  },
  {
   "cell_type": "code",
   "execution_count": 17,
   "id": "36c17669",
   "metadata": {},
   "outputs": [
    {
     "name": "stdout",
     "output_type": "stream",
     "text": [
      "Sneha Kukrety\n",
      "Sneha Kukrety\n"
     ]
    }
   ],
   "source": [
    "#Q9. Create a variable named name and assign your full name to it as a string. How would you print the value of this variable?\n",
    "\n",
    "name='Sneha Kukrety'\n",
    "print(name)\n",
    "print(name[0:])"
   ]
  },
  {
   "cell_type": "code",
   "execution_count": 21,
   "id": "b348308c",
   "metadata": {},
   "outputs": [
    {
     "name": "stdout",
     "output_type": "stream",
     "text": [
      "World\n",
      "World\n"
     ]
    }
   ],
   "source": [
    "#Q10. Given the string \"Hello, World!\", extract the substring \"World\".\n",
    "\n",
    "string=\"Hello, World!\"\n",
    "sub_string=string[7:12]\n",
    "print(sub_string)\n",
    "print(string[7:12])"
   ]
  },
  {
   "cell_type": "code",
   "execution_count": 22,
   "id": "864a49bd",
   "metadata": {},
   "outputs": [
    {
     "name": "stdout",
     "output_type": "stream",
     "text": [
      "True\n"
     ]
    }
   ],
   "source": [
    "#Q11. Create a variable named \"is_student\" and assign it a boolean value indicating whether you are currently a student or not.\n",
    "\n",
    "is_student=True\n",
    "print(is_student)"
   ]
  },
  {
   "cell_type": "code",
   "execution_count": null,
   "id": "d2c4fbff",
   "metadata": {},
   "outputs": [],
   "source": []
  }
 ],
 "metadata": {
  "kernelspec": {
   "display_name": "Python 3 (ipykernel)",
   "language": "python",
   "name": "python3"
  },
  "language_info": {
   "codemirror_mode": {
    "name": "ipython",
    "version": 3
   },
   "file_extension": ".py",
   "mimetype": "text/x-python",
   "name": "python",
   "nbconvert_exporter": "python",
   "pygments_lexer": "ipython3",
   "version": "3.9.7"
  }
 },
 "nbformat": 4,
 "nbformat_minor": 5
}
