{
 "cells": [
  {
   "cell_type": "code",
   "execution_count": 3,
   "id": "668ebff7",
   "metadata": {},
   "outputs": [
    {
     "data": {
      "text/plain": [
       "[1, 3, 5, 7, 9, 11, 13, 15, 17, 19, 21, 23, 25]"
      ]
     },
     "execution_count": 3,
     "metadata": {},
     "output_type": "execute_result"
    }
   ],
   "source": [
    "#Q1. Which keyword is used to create a function? Create a function to return a list of odd numbers in the range of 1 to 25.\n",
    "#def keyword is used to create a function. Syntax: def function_name(args):\n",
    "\n",
    "def odd_no():\n",
    "    L=[]\n",
    "    for i in range(1,26):\n",
    "        if i%2!=0:\n",
    "            L.append(i)\n",
    "    return L   \n",
    "\n",
    "odd_no()"
   ]
  },
  {
   "cell_type": "code",
   "execution_count": 12,
   "id": "f985d411",
   "metadata": {},
   "outputs": [
    {
     "name": "stdout",
     "output_type": "stream",
     "text": [
      "(2, 5, ('a', 'b'), [12, 3])\n",
      "{'a': 1, 'b': 2}\n"
     ]
    }
   ],
   "source": [
    "#Q2. Why *args and **kwargs is used in some functions? Create a function each for *args and **kwargs to demonstrate their use.\n",
    "# *args accepts all the arguments that are passed during the run time in the function( argument can be of different types). Example:\n",
    "\n",
    "def test_func(*args):\n",
    "    return args\n",
    "a=test_func(2,5,('a','b'),[12,3])\n",
    "\n",
    "#**kwargs is used to pass the key and value pair as an argument for a function. It returns the dictionary.\n",
    "def test2(**kwargs):\n",
    "    return kwargs\n",
    "b=test2(a=1, b=2)\n",
    "print(a)\n",
    "print(b)"
   ]
  },
  {
   "cell_type": "code",
   "execution_count": 13,
   "id": "d5d9fa6e",
   "metadata": {},
   "outputs": [
    {
     "name": "stdout",
     "output_type": "stream",
     "text": [
      "2\n",
      "4\n",
      "6\n",
      "8\n",
      "10\n"
     ]
    }
   ],
   "source": [
    "'''Q3. What is an iterator in python? Name the method used to initialise the iterator object and the method\n",
    "used for iteration. Use these methods to print the first five elements of the given list [2, 4, 6, 8, 10, 12, 14, 16,18, 20].\n",
    "\n",
    "The __iter__() method is used to initialize the iterator object and return itself. It is called when an iterator object is created.\n",
    "\n",
    "The __next__() method is used to fetch the next item from the iterator. It returns the next element in the sequence. If there are no more elements, it raises the StopIteration exception.'''\n",
    "\n",
    "l=[2, 4, 6, 8, 10, 12, 14, 16,18, 20]\n",
    "my_list=iter(l)\n",
    "for i in range(5):\n",
    "    print(next(my_list))\n"
   ]
  },
  {
   "cell_type": "code",
   "execution_count": 1,
   "id": "a98b7fa6",
   "metadata": {},
   "outputs": [
    {
     "name": "stdout",
     "output_type": "stream",
     "text": [
      "0\n",
      "1\n",
      "4\n",
      "9\n",
      "16\n"
     ]
    }
   ],
   "source": [
    "#Q4. What is a generator function in python? Why yield keyword is used? Give an example of a generator function.\n",
    "'''A generator function is a special type of function that generates an iterator.\n",
    "  It uses the yield keyword instead of return to temporarily suspend the function's execution and return a value. \n",
    "  The generator function can then be resumed from where it left off whenever the next value is requested.\n",
    "  \"yield\" keyword yeilds a value and pause its execution state. When the next value is requested, the function resumes execution from where it \n",
    "  left off and continues generating values until there are no more values to yield.\n",
    "'''\n",
    "def func(n):\n",
    "    for i in range(n):\n",
    "        yield i**2\n",
    "for i in func(5):\n",
    "    print(i)\n",
    "        "
   ]
  },
  {
   "cell_type": "code",
   "execution_count": 2,
   "id": "50c60ba1",
   "metadata": {},
   "outputs": [
    {
     "name": "stdout",
     "output_type": "stream",
     "text": [
      "2\n",
      "3\n",
      "5\n",
      "7\n",
      "11\n",
      "13\n",
      "17\n",
      "19\n",
      "23\n",
      "29\n",
      "31\n",
      "37\n",
      "41\n",
      "43\n",
      "47\n",
      "53\n",
      "59\n",
      "61\n",
      "67\n",
      "71\n"
     ]
    }
   ],
   "source": [
    "#Q5. Create a generator function for prime numbers less than 1000. Use the next() method to print the first 20 prime numbers.\n",
    "def primes():\n",
    "    num = 2  # Start with the first prime number\n",
    "    while True:\n",
    "        if all(num % i != 0 for i in range(2, int(num ** 0.5) + 1)):\n",
    "            yield num\n",
    "        num += 1\n",
    "\n",
    "# Using the generator function\n",
    "prime_generator = primes()\n",
    "\n",
    "# Printing the first 20 prime numbers\n",
    "for _ in range(20):\n",
    "    print(next(prime_generator))\n"
   ]
  },
  {
   "cell_type": "code",
   "execution_count": null,
   "id": "1558dd68",
   "metadata": {},
   "outputs": [],
   "source": []
  }
 ],
 "metadata": {
  "kernelspec": {
   "display_name": "Python 3 (ipykernel)",
   "language": "python",
   "name": "python3"
  },
  "language_info": {
   "codemirror_mode": {
    "name": "ipython",
    "version": 3
   },
   "file_extension": ".py",
   "mimetype": "text/x-python",
   "name": "python",
   "nbconvert_exporter": "python",
   "pygments_lexer": "ipython3",
   "version": "3.9.7"
  }
 },
 "nbformat": 4,
 "nbformat_minor": 5
}
