{
 "cells": [
  {
   "cell_type": "code",
   "execution_count": 1,
   "id": "322f6972-6ab2-4260-83fc-d583cf2f5df1",
   "metadata": {},
   "outputs": [
    {
     "name": "stdout",
     "output_type": "stream",
     "text": [
      "<class 'str'>\n",
      "<class 'list'>\n",
      "<class 'float'>\n",
      "<class 'tuple'>\n"
     ]
    }
   ],
   "source": [
    "#Q1. Create one variable containing following type of data:\n",
    "name='Sneha'\n",
    "l1=[1,2,3]\n",
    "fl=49.27\n",
    "my_tuple=(1,2,3)\n",
    "print(type(name))\n",
    "print(type(l1))\n",
    "print(type(fl))\n",
    "print(type(my_tuple))\n"
   ]
  },
  {
   "cell_type": "code",
   "execution_count": 4,
   "id": "cfb158bf-1cf1-4cab-b995-aa8458da2b56",
   "metadata": {},
   "outputs": [
    {
     "name": "stdout",
     "output_type": "stream",
     "text": [
      "<class 'str'>\n",
      "<class 'str'>\n",
      "<class 'list'>\n",
      "<class 'float'>\n"
     ]
    }
   ],
   "source": [
    "#Q2. Given are some following variables containing data:\n",
    "var1 = ''\n",
    "var2 = '[ DS , ML , Python]'\n",
    "var3 = [ 'DS' , 'ML' , 'Python' ]\n",
    "var4 = 1.\n",
    "print(type(var1))\n",
    "print(type(var2))\n",
    "print(type(var3))\n",
    "print(type(var4))\n"
   ]
  },
  {
   "cell_type": "code",
   "execution_count": 5,
   "id": "1e532f3b-a493-451c-a8eb-93252e0f2860",
   "metadata": {},
   "outputs": [
    {
     "name": "stdout",
     "output_type": "stream",
     "text": [
      "7.5\n",
      "1\n",
      "7\n",
      "225\n"
     ]
    }
   ],
   "source": [
    "#Q3. Explain the use of the following operators using an example:\n",
    "a=15\n",
    "b=2\n",
    "print(a/b)#prints quotient\n",
    "print(a%b)#prints remainder\n",
    "print(a//b)#prints integer quotient \n",
    "print(a**b)#prints a pow(b)"
   ]
  },
  {
   "cell_type": "code",
   "execution_count": 10,
   "id": "347fea9d-87b1-41b5-b6a7-e5123b1a815e",
   "metadata": {},
   "outputs": [
    {
     "name": "stdout",
     "output_type": "stream",
     "text": [
      "Element is 1  Element type: <class 'int'>\n",
      "Element is 2  Element type: <class 'int'>\n",
      "Element is a  Element type: <class 'str'>\n",
      "Element is b  Element type: <class 'str'>\n",
      "Element is hello  Element type: <class 'str'>\n",
      "Element is (15, 2)  Element type: <class 'tuple'>\n",
      "Element is 2.14  Element type: <class 'float'>\n",
      "Element is (1+4j)  Element type: <class 'complex'>\n",
      "Element is [1, 2]  Element type: <class 'list'>\n",
      "Element is c  Element type: <class 'str'>\n"
     ]
    }
   ],
   "source": [
    "'''Q4. Create a list of length 10 of your choice containing multiple types of data. Using for loop print the\n",
    "element and its data type.'''\n",
    "\n",
    "l1=[1,2,'a','b','hello',(a,b),2.14, 1+4j,[1,2],'c']\n",
    "for elements in l1:\n",
    "    print(\"Element is\" ,elements,\" Element type:\",type(elements))\n",
    "    "
   ]
  },
  {
   "cell_type": "code",
   "execution_count": 14,
   "id": "0c6dce80-034c-4472-94cd-c1d918658cfe",
   "metadata": {},
   "outputs": [
    {
     "name": "stdin",
     "output_type": "stream",
     "text": [
      " 30\n",
      " 6\n"
     ]
    },
    {
     "name": "stdout",
     "output_type": "stream",
     "text": [
      "A can be purely divided by B in 5 times\n"
     ]
    }
   ],
   "source": [
    "'''Q5. Using a while loop, verify if the number A is purely divisible by number B and if so then how many\n",
    "times it can be divisible.'''\n",
    "\n",
    "A=int(input())\n",
    "B=int(input())\n",
    "count=0\n",
    "while(A>=B):\n",
    "    A=A-B\n",
    "    count=count+1\n",
    "if A==0:\n",
    "    print(\"A can be purely divided by B\",\"in\",count,\"times\")\n",
    "else:\n",
    "    print(\"Not purely divisible\")\n"
   ]
  },
  {
   "cell_type": "code",
   "execution_count": 16,
   "id": "e0ed4718-d3ce-4110-91bf-9a4646ed0c01",
   "metadata": {},
   "outputs": [
    {
     "name": "stdout",
     "output_type": "stream",
     "text": [
      "7 is not divisible by 3\n",
      "12 is divisible by 3\n",
      "15 is divisible by 3\n",
      "21 is divisible by 3\n",
      "30 is divisible by 3\n",
      "33 is divisible by 3\n",
      "42 is divisible by 3\n",
      "50 is not divisible by 3\n",
      "55 is not divisible by 3\n",
      "60 is divisible by 3\n",
      "66 is divisible by 3\n",
      "70 is not divisible by 3\n",
      "75 is divisible by 3\n",
      "80 is not divisible by 3\n",
      "88 is not divisible by 3\n",
      "90 is divisible by 3\n",
      "99 is divisible by 3\n",
      "100 is not divisible by 3\n",
      "105 is divisible by 3\n",
      "110 is not divisible by 3\n",
      "120 is divisible by 3\n",
      "130 is not divisible by 3\n",
      "135 is divisible by 3\n",
      "140 is not divisible by 3\n",
      "150 is divisible by 3\n"
     ]
    }
   ],
   "source": [
    "'''Q6. Create a list containing 25 int type data. Using for loop and if-else condition print if the element is\n",
    "divisible by 3 or not.'''\n",
    "\n",
    "numbers = [7, 12, 15, 21, 30, 33, 42, 50, 55, 60, 66, 70, 75, 80, 88, 90, 99, 100, 105, 110, 120, 130, 135, 140, 150]\n",
    "for num in numbers:\n",
    "    if num%3==0:\n",
    "        print(num,\"is divisible by 3\")\n",
    "    else:\n",
    "        print(num,\"is not divisible by 3\")\n",
    "        "
   ]
  },
  {
   "cell_type": "code",
   "execution_count": 19,
   "id": "fc353f7e-92e8-4e4c-94bc-74b5bcd05493",
   "metadata": {},
   "outputs": [
    {
     "name": "stdout",
     "output_type": "stream",
     "text": [
      "original list: [1, 2, 4]\n",
      "mutated list: [1, 'sneha', 4]\n",
      "original string: Hello ?\n"
     ]
    },
    {
     "ename": "TypeError",
     "evalue": "'str' object does not support item assignment",
     "output_type": "error",
     "traceback": [
      "\u001b[0;31m---------------------------------------------------------------------------\u001b[0m",
      "\u001b[0;31mTypeError\u001b[0m                                 Traceback (most recent call last)",
      "Cell \u001b[0;32mIn[19], line 10\u001b[0m\n\u001b[1;32m      8\u001b[0m string\u001b[38;5;241m=\u001b[39m\u001b[38;5;124m\"\u001b[39m\u001b[38;5;124mHello ?\u001b[39m\u001b[38;5;124m\"\u001b[39m\n\u001b[1;32m      9\u001b[0m \u001b[38;5;28mprint\u001b[39m(\u001b[38;5;124m\"\u001b[39m\u001b[38;5;124moriginal string:\u001b[39m\u001b[38;5;124m\"\u001b[39m,string)\n\u001b[0;32m---> 10\u001b[0m \u001b[43mstring\u001b[49m\u001b[43m[\u001b[49m\u001b[38;5;241;43m-\u001b[39;49m\u001b[38;5;241;43m1\u001b[39;49m\u001b[43m]\u001b[49m\u001b[38;5;241m=\u001b[39m\u001b[38;5;124m\"\u001b[39m\u001b[38;5;124m!\u001b[39m\u001b[38;5;124m\"\u001b[39m\n\u001b[1;32m     11\u001b[0m \u001b[38;5;28mprint\u001b[39m(\u001b[38;5;124m\"\u001b[39m\u001b[38;5;124mString cannot be mutated\u001b[39m\u001b[38;5;124m\"\u001b[39m)\n",
      "\u001b[0;31mTypeError\u001b[0m: 'str' object does not support item assignment"
     ]
    }
   ],
   "source": [
    "'''Q7. What do you understand about mutable and immutable data types? Give examples for both showing\n",
    "this property.'''\n",
    "\n",
    "lis=[1,2,4]\n",
    "print(\"original list:\",lis)\n",
    "lis[1]=\"sneha\"\n",
    "print(\"mutated list:\",lis)\n",
    "string=\"Hello ?\"\n",
    "print(\"original string:\",string)\n",
    "string[-1]=\"!\"\n",
    "print(\"String cannot be mutated\")\n",
    "\n",
    "#list and dictionaries are mutable & string and tuple are immutable"
   ]
  },
  {
   "cell_type": "code",
   "execution_count": null,
   "id": "0e20d941-cf9d-481f-bc81-ba24974d285d",
   "metadata": {},
   "outputs": [],
   "source": []
  }
 ],
 "metadata": {
  "kernelspec": {
   "display_name": "Python 3 (ipykernel)",
   "language": "python",
   "name": "python3"
  },
  "language_info": {
   "codemirror_mode": {
    "name": "ipython",
    "version": 3
   },
   "file_extension": ".py",
   "mimetype": "text/x-python",
   "name": "python",
   "nbconvert_exporter": "python",
   "pygments_lexer": "ipython3",
   "version": "3.10.8"
  }
 },
 "nbformat": 4,
 "nbformat_minor": 5
}
