{
 "cells": [
  {
   "cell_type": "code",
   "execution_count": 4,
   "id": "aed22e30",
   "metadata": {
    "scrolled": true
   },
   "outputs": [
    {
     "name": "stdout",
     "output_type": "stream",
     "text": [
      "Name of vehicle is XYZ, Max speed of XYZ is 120, average of XYZ is 60\n"
     ]
    }
   ],
   "source": [
    "#Q1, Create a vehicle class with an init method having instance variables as name_of_vehicle, max_speed and average_of_vehicle.\n",
    "class vehicle:\n",
    "    def __init__(self, name_of_vehicle, max_speed, average_of_vehicle):\n",
    "        self.name_of_vehicle= name_of_vehicle\n",
    "        self.max_speed=max_speed\n",
    "        self.average_of_vehicle= average_of_vehicle\n",
    "bike=vehicle(\"XYZ\", 120, 60)    \n",
    "print(f'Name of vehicle is {bike.name_of_vehicle}, Max speed of {bike.name_of_vehicle} is {bike.max_speed}, average of {bike.name_of_vehicle} is {car.average_of_vehicle}')"
   ]
  },
  {
   "cell_type": "code",
   "execution_count": 10,
   "id": "e1d5de9d",
   "metadata": {},
   "outputs": [
    {
     "name": "stdout",
     "output_type": "stream",
     "text": [
      "SUV capacity: 4\n"
     ]
    }
   ],
   "source": [
    "'''Q2. Create a child class car from the vehicle class created in Que 1, which will inherit the vehicle class.\n",
    "Create a method named seating_capacity which takes capacity as an argument and returns the name of\n",
    "the vehicle and its seating capacity.'''\n",
    "class vehicle:\n",
    "    def __init__(self, name_of_vehicle, max_speed, average_of_vehicle):\n",
    "        self.name_of_vehicle= name_of_vehicle\n",
    "        self.max_speed=max_speed\n",
    "        self.average_of_vehicle= average_of_vehicle\n",
    "class car(vehicle):\n",
    "    def seating_capacity(self,capacity):\n",
    "        return f\"{self.name_of_vehicle} capacity: {capacity}\"\n",
    "    \n",
    "my_car=car(\"SUV\", 150, 50 ) \n",
    "print(my_car.seating_capacity(4))\n",
    "    \n",
    "    \n",
    "        \n"
   ]
  },
  {
   "cell_type": "code",
   "execution_count": 16,
   "id": "fafb623f",
   "metadata": {},
   "outputs": [
    {
     "name": "stdout",
     "output_type": "stream",
     "text": [
      "They eat plants\n",
      "They eat meat\n"
     ]
    }
   ],
   "source": [
    "#Q3. What is multiple inheritance? Write a python code to demonstrate multiple inheritance.\n",
    "#Inheritance in which a class inherits its data from more than one parent.Example:\n",
    "class Herbivores:\n",
    "    def eat_plants(self):\n",
    "        print(\"They eat plants\")\n",
    "class carnivores:\n",
    "    def eat_meat(self):\n",
    "        print (\"They eat meat\")\n",
    "    \n",
    "class omnivores(Herbivores, carnivores):\n",
    "    pass\n",
    "\n",
    "omni=omnivores()\n",
    "omni.eat_plants()\n",
    "omni.eat_meat()\n",
    "\n"
   ]
  },
  {
   "cell_type": "code",
   "execution_count": 20,
   "id": "8a055159",
   "metadata": {},
   "outputs": [
    {
     "name": "stdout",
     "output_type": "stream",
     "text": [
      "SUV\n",
      "None\n",
      "60\n",
      "average of vehicle cannot be negative.\n"
     ]
    }
   ],
   "source": [
    "#Q4. What are getter and setter in python? Create a class and create a getter and a setter method in this class.\n",
    "# Getter and setter methods are used to access and modify the attributes of a class in a controlled manner. \n",
    "class vehicle:\n",
    "    def __init__(self, name_of_vehicle, max_speed, average_of_vehicle):\n",
    "        self.name_of_vehicle= name_of_vehicle\n",
    "        self.max_speed=max_speed\n",
    "        self.average_of_vehicle= average_of_vehicle\n",
    "    def get_name(self):\n",
    "        return self.name_of_vehicle\n",
    "    def set_name(self, name):\n",
    "        self.name_of_vehicle=name\n",
    "        \n",
    "    def get_average_of_vehicle(self):\n",
    "        return self.average_of_vehicle\n",
    "\n",
    "    \n",
    "    def set_average_of_vehicle(self, avg):\n",
    "        if avg >= 0:\n",
    "            self.average_of_vehicle = avg\n",
    "        else:\n",
    "            print(\"average of vehicle cannot be negative.\")\n",
    "            \n",
    "car=vehicle(\"SUV\", 120, 60)\n",
    "print(car.get_name())\n",
    "print(car.set_name(\"Toyota\"))\n",
    "print(car.get_average_of_vehicle())\n",
    "car.set_average_of_vehicle(-29)"
   ]
  },
  {
   "cell_type": "code",
   "execution_count": 21,
   "id": "d92260f0",
   "metadata": {},
   "outputs": [
    {
     "name": "stdout",
     "output_type": "stream",
     "text": [
      "Animals eat\n",
      "Dog eats\n",
      "cat eats\n"
     ]
    }
   ],
   "source": [
    "#Q5.What is method overriding in python? Write a python code to demonstrate method overriding.\n",
    "# It is a feature in object-oriented programming where a subclass provides its own implementation of a method that is \n",
    "#already defined in its superclass.\n",
    "class Animal:\n",
    "    def eat(self):\n",
    "        print(\"Animals eat\")\n",
    "\n",
    "class Dog(Animal):\n",
    "    def eat(self):\n",
    "        print(\"Dog eats\")\n",
    "\n",
    "class Cat(Animal):\n",
    "    def eat(self):\n",
    "        print(\"cat eats\")\n",
    "\n",
    "animal = Animal()\n",
    "dog = Dog()\n",
    "cat = Cat()\n",
    "\n",
    "\n",
    "animal.eat()  \n",
    "dog.eat() \n",
    "cat.eat()\n"
   ]
  },
  {
   "cell_type": "code",
   "execution_count": null,
   "id": "005ffc08",
   "metadata": {},
   "outputs": [],
   "source": []
  }
 ],
 "metadata": {
  "kernelspec": {
   "display_name": "Python 3 (ipykernel)",
   "language": "python",
   "name": "python3"
  },
  "language_info": {
   "codemirror_mode": {
    "name": "ipython",
    "version": 3
   },
   "file_extension": ".py",
   "mimetype": "text/x-python",
   "name": "python",
   "nbconvert_exporter": "python",
   "pygments_lexer": "ipython3",
   "version": "3.9.7"
  }
 },
 "nbformat": 4,
 "nbformat_minor": 5
}
